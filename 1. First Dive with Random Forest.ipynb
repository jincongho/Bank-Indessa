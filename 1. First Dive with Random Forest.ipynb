{
 "cells": [
  {
   "cell_type": "code",
   "execution_count": 1,
   "metadata": {
    "collapsed": true,
    "deletable": true,
    "editable": true
   },
   "outputs": [],
   "source": [
    "%matplotlib inline\n",
    "\n",
    "import numpy as np\n",
    "import pandas as pd\n",
    "import matplotlib.pyplot as plt"
   ]
  },
  {
   "cell_type": "code",
   "execution_count": 2,
   "metadata": {
    "collapsed": false,
    "deletable": true,
    "editable": true
   },
   "outputs": [],
   "source": [
    "data = pd.read_csv(\"input/train_indessa.csv\")"
   ]
  },
  {
   "cell_type": "code",
   "execution_count": 3,
   "metadata": {
    "collapsed": false,
    "deletable": true,
    "editable": true
   },
   "outputs": [
    {
     "name": "stdout",
     "output_type": "stream",
     "text": [
      "Shape:  (532428, 45)\n"
     ]
    },
    {
     "data": {
      "text/html": [
       "<div>\n",
       "<table border=\"1\" class=\"dataframe\">\n",
       "  <thead>\n",
       "    <tr style=\"text-align: right;\">\n",
       "      <th></th>\n",
       "      <th>member_id</th>\n",
       "      <th>loan_amnt</th>\n",
       "      <th>funded_amnt</th>\n",
       "      <th>funded_amnt_inv</th>\n",
       "      <th>term</th>\n",
       "      <th>batch_enrolled</th>\n",
       "      <th>int_rate</th>\n",
       "      <th>grade</th>\n",
       "      <th>sub_grade</th>\n",
       "      <th>emp_title</th>\n",
       "      <th>...</th>\n",
       "      <th>collections_12_mths_ex_med</th>\n",
       "      <th>mths_since_last_major_derog</th>\n",
       "      <th>application_type</th>\n",
       "      <th>verification_status_joint</th>\n",
       "      <th>last_week_pay</th>\n",
       "      <th>acc_now_delinq</th>\n",
       "      <th>tot_coll_amt</th>\n",
       "      <th>tot_cur_bal</th>\n",
       "      <th>total_rev_hi_lim</th>\n",
       "      <th>loan_status</th>\n",
       "    </tr>\n",
       "  </thead>\n",
       "  <tbody>\n",
       "    <tr>\n",
       "      <th>0</th>\n",
       "      <td>58189336</td>\n",
       "      <td>14350</td>\n",
       "      <td>14350</td>\n",
       "      <td>14350.0</td>\n",
       "      <td>36 months</td>\n",
       "      <td></td>\n",
       "      <td>19.19</td>\n",
       "      <td>E</td>\n",
       "      <td>E3</td>\n",
       "      <td>clerk</td>\n",
       "      <td>...</td>\n",
       "      <td>0.0</td>\n",
       "      <td>74.0</td>\n",
       "      <td>INDIVIDUAL</td>\n",
       "      <td>NaN</td>\n",
       "      <td>26th week</td>\n",
       "      <td>0.0</td>\n",
       "      <td>0.0</td>\n",
       "      <td>28699.0</td>\n",
       "      <td>30800.0</td>\n",
       "      <td>0</td>\n",
       "    </tr>\n",
       "    <tr>\n",
       "      <th>1</th>\n",
       "      <td>70011223</td>\n",
       "      <td>4800</td>\n",
       "      <td>4800</td>\n",
       "      <td>4800.0</td>\n",
       "      <td>36 months</td>\n",
       "      <td>BAT1586599</td>\n",
       "      <td>10.99</td>\n",
       "      <td>B</td>\n",
       "      <td>B4</td>\n",
       "      <td>Human Resources Specialist</td>\n",
       "      <td>...</td>\n",
       "      <td>0.0</td>\n",
       "      <td>NaN</td>\n",
       "      <td>INDIVIDUAL</td>\n",
       "      <td>NaN</td>\n",
       "      <td>9th week</td>\n",
       "      <td>0.0</td>\n",
       "      <td>0.0</td>\n",
       "      <td>9974.0</td>\n",
       "      <td>32900.0</td>\n",
       "      <td>0</td>\n",
       "    </tr>\n",
       "    <tr>\n",
       "      <th>2</th>\n",
       "      <td>70255675</td>\n",
       "      <td>10000</td>\n",
       "      <td>10000</td>\n",
       "      <td>10000.0</td>\n",
       "      <td>36 months</td>\n",
       "      <td>BAT1586599</td>\n",
       "      <td>7.26</td>\n",
       "      <td>A</td>\n",
       "      <td>A4</td>\n",
       "      <td>Driver</td>\n",
       "      <td>...</td>\n",
       "      <td>0.0</td>\n",
       "      <td>NaN</td>\n",
       "      <td>INDIVIDUAL</td>\n",
       "      <td>NaN</td>\n",
       "      <td>9th week</td>\n",
       "      <td>0.0</td>\n",
       "      <td>65.0</td>\n",
       "      <td>38295.0</td>\n",
       "      <td>34900.0</td>\n",
       "      <td>0</td>\n",
       "    </tr>\n",
       "    <tr>\n",
       "      <th>3</th>\n",
       "      <td>1893936</td>\n",
       "      <td>15000</td>\n",
       "      <td>15000</td>\n",
       "      <td>15000.0</td>\n",
       "      <td>36 months</td>\n",
       "      <td>BAT4808022</td>\n",
       "      <td>19.72</td>\n",
       "      <td>D</td>\n",
       "      <td>D5</td>\n",
       "      <td>Us office of Personnel Management</td>\n",
       "      <td>...</td>\n",
       "      <td>0.0</td>\n",
       "      <td>NaN</td>\n",
       "      <td>INDIVIDUAL</td>\n",
       "      <td>NaN</td>\n",
       "      <td>135th week</td>\n",
       "      <td>0.0</td>\n",
       "      <td>0.0</td>\n",
       "      <td>55564.0</td>\n",
       "      <td>24700.0</td>\n",
       "      <td>0</td>\n",
       "    </tr>\n",
       "    <tr>\n",
       "      <th>4</th>\n",
       "      <td>7652106</td>\n",
       "      <td>16000</td>\n",
       "      <td>16000</td>\n",
       "      <td>16000.0</td>\n",
       "      <td>36 months</td>\n",
       "      <td>BAT2833642</td>\n",
       "      <td>10.64</td>\n",
       "      <td>B</td>\n",
       "      <td>B2</td>\n",
       "      <td>LAUSD-HOLLYWOOD HIGH SCHOOL</td>\n",
       "      <td>...</td>\n",
       "      <td>0.0</td>\n",
       "      <td>NaN</td>\n",
       "      <td>INDIVIDUAL</td>\n",
       "      <td>NaN</td>\n",
       "      <td>96th week</td>\n",
       "      <td>0.0</td>\n",
       "      <td>0.0</td>\n",
       "      <td>47159.0</td>\n",
       "      <td>47033.0</td>\n",
       "      <td>0</td>\n",
       "    </tr>\n",
       "  </tbody>\n",
       "</table>\n",
       "<p>5 rows × 45 columns</p>\n",
       "</div>"
      ],
      "text/plain": [
       "   member_id  loan_amnt  funded_amnt  funded_amnt_inv       term  \\\n",
       "0   58189336      14350        14350          14350.0  36 months   \n",
       "1   70011223       4800         4800           4800.0  36 months   \n",
       "2   70255675      10000        10000          10000.0  36 months   \n",
       "3    1893936      15000        15000          15000.0  36 months   \n",
       "4    7652106      16000        16000          16000.0  36 months   \n",
       "\n",
       "  batch_enrolled  int_rate grade sub_grade                          emp_title  \\\n",
       "0                    19.19     E        E3                              clerk   \n",
       "1     BAT1586599     10.99     B        B4         Human Resources Specialist   \n",
       "2     BAT1586599      7.26     A        A4                             Driver   \n",
       "3     BAT4808022     19.72     D        D5  Us office of Personnel Management   \n",
       "4     BAT2833642     10.64     B        B2        LAUSD-HOLLYWOOD HIGH SCHOOL   \n",
       "\n",
       "      ...     collections_12_mths_ex_med mths_since_last_major_derog  \\\n",
       "0     ...                            0.0                        74.0   \n",
       "1     ...                            0.0                         NaN   \n",
       "2     ...                            0.0                         NaN   \n",
       "3     ...                            0.0                         NaN   \n",
       "4     ...                            0.0                         NaN   \n",
       "\n",
       "   application_type verification_status_joint last_week_pay acc_now_delinq  \\\n",
       "0        INDIVIDUAL                       NaN     26th week            0.0   \n",
       "1        INDIVIDUAL                       NaN      9th week            0.0   \n",
       "2        INDIVIDUAL                       NaN      9th week            0.0   \n",
       "3        INDIVIDUAL                       NaN    135th week            0.0   \n",
       "4        INDIVIDUAL                       NaN     96th week            0.0   \n",
       "\n",
       "  tot_coll_amt tot_cur_bal total_rev_hi_lim loan_status  \n",
       "0          0.0     28699.0          30800.0           0  \n",
       "1          0.0      9974.0          32900.0           0  \n",
       "2         65.0     38295.0          34900.0           0  \n",
       "3          0.0     55564.0          24700.0           0  \n",
       "4          0.0     47159.0          47033.0           0  \n",
       "\n",
       "[5 rows x 45 columns]"
      ]
     },
     "execution_count": 3,
     "metadata": {},
     "output_type": "execute_result"
    }
   ],
   "source": [
    "print(\"Shape: \", data.shape)\n",
    "data[:5]"
   ]
  },
  {
   "cell_type": "code",
   "execution_count": 4,
   "metadata": {
    "collapsed": false,
    "deletable": true,
    "editable": true
   },
   "outputs": [
    {
     "name": "stdout",
     "output_type": "stream",
     "text": [
      "member_id :  [58189336 70011223 70255675 ...,  7357607 23182668 46122259]\n",
      "loan_amnt :  [14350  4800 10000 ..., 34600   725   925]\n",
      "funded_amnt :  [14350  4800 10000 ..., 34600   725   925]\n",
      "funded_amnt_inv :  [ 14350.           4800.          10000.         ...,   4687.79228349\n",
      "  17901.7719906    8283.54      ]\n",
      "term :  ['36 months' '60 months']\n",
      "batch_enrolled :  [' ' 'BAT1586599' 'BAT4808022' 'BAT2833642' 'BAT2575549' nan 'BAT4136152'\n",
      " 'BAT4694572' 'BAT5924421' 'BAT3193689' 'BAT224923' 'BAT1184694'\n",
      " 'BAT1930365' 'BAT3873588' 'BAT2252229' 'BAT1135695' 'BAT4271519'\n",
      " 'BAT3726927' 'BAT2803411' 'BAT1104812' 'BAT5341619' 'BAT3865626'\n",
      " 'BAT1780517' 'BAT2522922' 'BAT2558388' 'BAT2428731' 'BAT3943761'\n",
      " 'BAT2333412' 'BAT5849876' 'BAT5540558' 'BAT2136391' 'BAT1761981'\n",
      " 'BAT47674' 'BAT1327206' 'BAT1467036' 'BAT2003848' 'BAT4722912'\n",
      " 'BAT4201183' 'BAT5525466' 'BAT5489674' 'BAT2078974' 'BAT4351734'\n",
      " 'BAT2677031' 'BAT3461431' 'BAT3292317' 'BAT1766061' 'BAT1914408'\n",
      " 'BAT1942645' 'BAT5458862' 'BAT2015867' 'BAT1691418' 'BAT5877328'\n",
      " 'BAT5614983' 'BAT1755192' 'BAT4786748' 'BAT5811547' 'BAT2881062'\n",
      " 'BAT4051248' 'BAT5629144' 'BAT5714674' 'BAT3372536' 'BAT1273836'\n",
      " 'BAT3260421' 'BAT2881453' 'BAT5320519' 'BAT5547201' 'BAT5046385'\n",
      " 'BAT348786' 'BAT3160077' 'BAT20678' 'BAT4260473' 'BAT3706046' 'BAT4780022'\n",
      " 'BAT3275209' 'BAT3518025' 'BAT3839056' 'BAT2974007' 'BAT1521494'\n",
      " 'BAT291187' 'BAT3975721' 'BAT5597801' 'BAT357701' 'BAT4734809'\n",
      " 'BAT1864701' 'BAT2143459' 'BAT4935307' 'BAT447257' 'BAT4160421'\n",
      " 'BAT3537993' 'BAT3157685' 'BAT3474907' 'BAT4726815' 'BAT3594334'\n",
      " 'BAT4939736' 'BAT5477261' 'BAT578944' 'BAT3147293' 'BAT5869156'\n",
      " 'BAT3965509' 'BAT1575727' 'BAT4250975' 'BAT4884699' 'BAT4347689'\n",
      " 'BAT5077496' 'BAT2331079']\n",
      "int_rate :  [ 19.19  10.99   7.26  19.72  10.64   8.9    7.9    9.17  13.99  17.14\n",
      "  13.33  18.49   6.99   6.03  13.65  15.61  21.7   16.99   9.99  17.86\n",
      "   6.62  17.57  13.66   7.89  12.99   6.92  16.59  12.69   8.18  19.52\n",
      "  13.98  14.85  18.55  20.49  12.29   8.19  16.49   8.39  18.75  13.67\n",
      "  16.29  24.08  14.31   8.67  11.14  17.76  14.64  14.48  14.65  12.12\n",
      "  16.55  13.18  23.83  11.67  18.84  19.99  14.33  18.2   23.4   10.38\n",
      "  15.99  14.99  13.35  18.25  12.39  24.99  22.99  10.16   5.32  19.42\n",
      "  11.99  13.11  20.99  11.44  16.78  18.78  13.49  18.85  21.99  14.49\n",
      "  10.15  21.67   6.89  11.53  12.49   9.49   9.76  20.31   7.49  15.31\n",
      "  22.15  12.59  28.49  18.99  12.85  16.32   6.24   6.49  25.57  11.55\n",
      "  10.65  13.53  14.98  21.15   7.69   9.71  13.8   11.71  12.05  20.5\n",
      "   8.38  19.05  23.99  18.24  22.47  15.59  16.2   12.35  16.24   7.62\n",
      "  14.3    5.42   6.17  15.23  21.49   6.68  14.09  17.97  18.39  10.75\n",
      "  24.5   18.54  15.57   7.88  21.    22.7   15.1   20.2   15.8   19.03\n",
      "  17.49  17.27  14.27   7.91  22.95  15.22   6.39  25.78  11.22  23.43\n",
      "  19.22  12.23  10.62   7.29  17.77  10.74   7.51   9.67  10.59   7.12\n",
      "  25.89  21.59  10.49  18.92  11.49  15.41  18.64  12.42  15.88  19.47\n",
      "  21.6   14.16   5.93  20.8   14.47  22.45  19.29   9.8   14.83  10.36\n",
      "  25.99   5.99  13.16  19.91  16.77  13.68  20.3    9.32  22.2   10.25   8.\n",
      "   9.25  21.48  19.24  15.27  16.89  10.78  23.7    9.91   9.88  15.95\n",
      "  13.43  25.8   13.05  17.56  19.04  21.98  26.06   7.66  27.31  14.91\n",
      "  17.1   14.11  18.67  17.99  19.2   15.96   7.74  12.21  11.36  19.48\n",
      "  22.4   16.45  13.79  13.92  19.97  23.63   8.49  14.79  17.43  17.51\n",
      "  21.18   8.63  23.28  12.73  14.26  10.95   8.94  11.48  23.76  11.11\n",
      "  24.83  10.     6.54  14.72  12.87  14.42  13.22  15.62  12.61   7.05\n",
      "   9.62  23.1   17.39  15.33  19.74  16.95  22.35  11.86  26.77  16.35\n",
      "  10.37  27.88  13.85   5.79  15.65  14.17  11.97   6.97  15.77  11.34\n",
      "  12.84  17.58  14.96  15.21  14.35  25.28   6.    12.68   7.68  11.12  16.\n",
      "  22.9   25.83   9.33  13.06  18.91  11.78  24.24  24.59  15.58  11.91\n",
      "   9.63   8.88  11.26  13.72   8.32  13.48  11.83  11.03  11.54  13.44\n",
      "  12.88  22.06  20.25  15.28  23.33  12.18  17.93  28.99  12.04  13.23\n",
      "  15.81  15.05  13.57  17.26  12.53  16.82  16.4   19.41  16.02  24.89\n",
      "  14.22  18.79  13.84  21.14   7.14   7.37   8.6   23.5   19.79  10.83\n",
      "   9.83   6.76   9.45  17.19  22.74  13.24  12.98  19.89  15.37  13.12\n",
      "   6.91  14.18  16.63  21.97   7.4   13.61  22.78  24.7   14.54  15.7\n",
      "   9.64  13.47  10.39  16.08  17.88  11.41   8.59   9.96  20.48  23.59\n",
      "  20.85  14.84  13.93  19.69  23.26  23.13  16.7   10.71  20.89  22.48\n",
      "  10.01   7.43  13.55  10.08  14.46  11.66  18.3   17.06  18.43  11.89\n",
      "  15.2   14.59  21.74  14.07  16.07  22.11   8.07  18.62  19.39  16.69\n",
      "  13.87  12.92  12.17  14.88  21.27  24.2   11.28  10.96  15.38  11.46\n",
      "  14.43  14.61  14.74  14.5   25.09  12.09  24.33  13.75  11.58  17.74\n",
      "  24.52  21.64  21.28  24.11  17.66   9.51  15.68  12.54  19.66  19.36\n",
      "  14.93  12.86  14.38  16.11  14.7   12.8   17.8   10.33  16.28  13.3\n",
      "  15.45  14.82  10.28  21.22  20.62  17.22  11.09  18.29  13.17   9.01\n",
      "  20.11   9.07  20.17   7.75  21.36  18.86   9.2   18.17   9.38  17.15\n",
      "  15.83  15.01  12.67  23.52  20.03  12.41  11.59  12.72  18.21  15.07\n",
      "  16.15  18.09  13.04  26.99  16.65  16.71  15.76  10.91  17.03  17.04\n",
      "  11.63  22.94  20.86  14.12  27.99  23.22  27.49  20.53  10.2    8.7\n",
      "  11.72  15.25  10.51  14.75  15.13  21.82  18.61  10.46  12.62  17.54\n",
      "  12.22  20.77  23.91  13.36  20.52   7.42  12.36  19.13  14.67  14.25\n",
      "  17.9   20.4   18.04  10.14  17.44  19.16  17.34  15.51  16.96  20.16\n",
      "  16.46  16.33  16.01   9.7   20.9   22.85  18.36  20.69  17.59  18.53\n",
      "  13.62  16.91  17.91  14.57  14.28  18.07  17.46  19.82  24.76  21.21\n",
      "  17.09  14.62  17.28]\n",
      "grade :  ['E' 'B' 'A' 'D' 'C' 'F' 'G']\n",
      "sub_grade :  ['E3' 'B4' 'A4' 'D5' 'B2' 'A5' 'B1' 'C4' 'D4' 'C3' 'D2' 'A3' 'A1' 'C1' 'D1'\n",
      " 'E2' 'B3' 'A2' 'C2' 'C5' 'E4' 'D3' 'B5' 'F2' 'F5' 'E1' 'E5' 'F4' 'F1' 'F3'\n",
      " 'G4' 'G3' 'G5' 'G1' 'G2']\n",
      "emp_title :  ['clerk' 'Human Resources Specialist' 'Driver' ..., 'Staffing assistant'\n",
      " 'Champion Mortgage' 'Health Care Analyst']\n",
      "emp_length :  ['9 years' '< 1 year' '2 years' '10+ years' '5 years' '8 years' '7 years'\n",
      " '4 years' 'n/a' '1 year' '3 years' '6 years']\n",
      "home_ownership :  ['OWN' 'MORTGAGE' 'RENT' 'OTHER' 'NONE' 'ANY']\n",
      "annual_inc :  [  28700.     65000.     45000.   ...,  852000.     47839.44   50077.  ]\n",
      "verification_status :  ['Source Verified' 'Not Verified' 'Verified']\n",
      "pymnt_plan :  ['n' 'y']\n",
      "desc :  [nan\n",
      " '> My goal is to obtain a loan to pay off my high credit cards and get out of debt within 3 years.<br>'\n",
      " '   > We are requesting this loan to help re-organize our finances after having a tumultuous year that resulted in unexpected medical bills.  I have been in the same line of work for over five years and have been at my current company, which is very stable in the marketplace, for two and a half years.<br>'\n",
      " ...,\n",
      " '   > This loan is for home improvements, remodeling and updating.<br>'\n",
      " 'Need to consolidate cards to 1 monthly payment.'\n",
      " '   > My Deck needs to be replaced. I have $2500 saved up for it, but want to get it installed over the summer. The rates at lending club were worth getting financing for it instead of waiting till I could pay for it outright. <br/>Since leaving grad school I have never been unemployed. My Job requires a security clearance, which I cannot have with a poor credit score.<br/>']\n",
      "purpose :  ['debt_consolidation' 'home_improvement' 'credit_card' 'other'\n",
      " 'major_purchase' 'small_business' 'vacation' 'car' 'moving' 'medical'\n",
      " 'wedding' 'renewable_energy' 'house' 'educational']\n",
      "title :  ['Debt consolidation' 'Home improvement' 'refi' ..., 'Relieve Stress'\n",
      " 'Great Credit' 'Loan for Deck']\n",
      "zip_code :  ['349xx' '209xx' '447xx' '221xx' '900xx' '461xx' '913xx' '351xx' '917xx'\n",
      " '427xx' '875xx' '926xx' '381xx' '773xx' '922xx' '919xx' '191xx' '666xx'\n",
      " '606xx' '322xx' '114xx' '928xx' '631xx' '337xx' '285xx' '764xx' '352xx'\n",
      " '757xx' '073xx' '067xx' '902xx' '750xx' '953xx' '335xx' '112xx' '471xx'\n",
      " '662xx' '171xx' '760xx' '939xx' '079xx' '125xx' '190xx' '100xx' '908xx'\n",
      " '466xx' '064xx' '168xx' '038xx' '498xx' '430xx' '083xx' '852xx' '871xx'\n",
      " '301xx' '494xx' '840xx' '076xx' '330xx' '490xx' '770xx' '195xx' '740xx'\n",
      " '891xx' '282xx' '553xx' '423xx' '437xx' '791xx' '273xx' '380xx' '305xx'\n",
      " '057xx' '327xx' '019xx' '107xx' '104xx' '198xx' '708xx' '949xx' '670xx'\n",
      " '988xx' '021xx' '287xx' '224xx' '232xx' '850xx' '566xx' '628xx' '320xx'\n",
      " '799xx' '283xx' '920xx' '103xx' '729xx' '410xx' '782xx' '015xx' '378xx'\n",
      " '554xx' '761xx' '115xx' '415xx' '442xx' '344xx' '201xx' '981xx' '020xx'\n",
      " '982xx' '278xx' '720xx' '816xx' '254xx' '074xx' '444xx' '113xx' '481xx'\n",
      " '405xx' '863xx' '968xx' '441xx' '017xx' '452xx' '212xx' '786xx' '334xx'\n",
      " '547xx' '727xx' '483xx' '370xx' '856xx' '925xx' '333xx' '951xx' '474xx'\n",
      " '341xx' '752xx' '762xx' '080xx' '363xx' '317xx' '186xx' '240xx' '088xx'\n",
      " '217xx' '923xx' '227xx' '328xx' '336xx' '935xx' '604xx' '288xx' '624xx'\n",
      " '321xx' '915xx' '101xx' '950xx' '641xx' '111xx' '326xx' '458xx' '927xx'\n",
      " '787xx' '364xx' '061xx' '372xx' '630xx' '946xx' '402xx' '570xx' '681xx'\n",
      " '443xx' '346xx' '028xx' '543xx' '163xx' '735xx' '755xx' '303xx' '233xx'\n",
      " '070xx' '071xx' '024xx' '347xx' '356xx' '194xx' '933xx' '882xx' '236xx'\n",
      " '640xx' '719xx' '225xx' '220xx' '600xx' '822xx' '014xx' '031xx' '857xx'\n",
      " '941xx' '463xx' '959xx' '130xx' '222xx' '421xx' '741xx' '894xx' '826xx'\n",
      " '432xx' '479xx' '952xx' '010xx' '329xx' '759xx' '711xx' '214xx' '744xx'\n",
      " '297xx' '774xx' '089xx' '411xx' '674xx' '207xx' '324xx' '890xx' '338xx'\n",
      " '121xx' '060xx' '331xx' '809xx' '302xx' '931xx' '980xx' '365xx' '605xx'\n",
      " '880xx' '671xx' '577xx' '705xx' '921xx' '359xx' '109xx' '255xx' '211xx'\n",
      " '534xx' '611xx' '984xx' '087xx' '210xx' '281xx' '489xx' '843xx' '177xx'\n",
      " '480xx' '995xx' '350xx' '907xx' '403xx' '706xx' '385xx' '127xx' '844xx'\n",
      " '955xx' '958xx' '117xx' '460xx' '802xx' '032xx' '342xx' '439xx' '395xx'\n",
      " '369xx' '368xx' '788xx' '853xx' '895xx' '151xx' '906xx' '150xx' '244xx'\n",
      " '601xx' '912xx' '189xx' '170xx' '618xx' '275xx' '807xx' '218xx' '128xx'\n",
      " '475xx' '785xx' '726xx' '721xx' '152xx' '590xx' '945xx' '488xx' '627xx'\n",
      " '023xx' '436xx' '208xx' '238xx' '440xx' '276xx' '172xx' '983xx' '105xx'\n",
      " '482xx' '455xx' '691xx' '446xx' '957xx' '300xx' '934xx' '296xx' '978xx'\n",
      " '156xx' '956xx' '325xx' '780xx' '532xx' '373xx' '636xx' '914xx' '371xx'\n",
      " '829xx' '972xx' '011xx' '086xx' '279xx' '754xx' '763xx' '930xx' '765xx'\n",
      " '775xx' '308xx' '027xx' '977xx' '615xx' '180xx' '559xx' '491xx' '571xx'\n",
      " '081xx' '932xx' '454xx' '712xx' '018xx' '029xx' '043xx' '159xx' '131xx'\n",
      " '870xx' '453xx' '800xx' '358xx' '633xx' '122xx' '065xx' '881xx' '936xx'\n",
      " '704xx' '310xx' '797xx' '790xx' '778xx' '751xx' '406xx' '608xx' '178xx'\n",
      " '998xx' '197xx' '216xx' '294xx' '598xx' '226xx' '339xx' '082xx' '465xx'\n",
      " '450xx' '660xx' '234xx' '806xx' '812xx' '291xx' '215xx' '464xx' '675xx'\n",
      " '937xx' '026xx' '561xx' '434xx' '066xx' '206xx' '700xx' '013xx' '550xx'\n",
      " '223xx' '016xx' '905xx' '193xx' '743xx' '062xx' '386xx' '431xx' '558xx'\n",
      " '883xx' '975xx' '878xx' '306xx' '173xx' '435xx' '312xx' '731xx' '794xx'\n",
      " '701xx' '730xx' '448xx' '467xx' '068xx' '993xx' '970xx' '124xx' '851xx'\n",
      " '716xx' '756xx' '665xx' '245xx' '986xx' '916xx' '142xx' '622xx' '379xx'\n",
      " '657xx' '166xx' '656xx' '374xx' '795xx' '146xx' '746xx' '357xx' '054xx'\n",
      " '315xx' '940xx' '723xx' '188xx' '433xx' '041xx' '992xx' '394xx' '078xx'\n",
      " '420xx' '323xx' '280xx' '985xx' '120xx' '110xx' '616xx' '967xx' '801xx'\n",
      " '813xx' '167xx' '290xx' '827xx' '652xx' '748xx' '918xx' '820xx' '077xx'\n",
      " '231xx' '053xx' '292xx' '960xx' '805xx' '316xx' '551xx' '658xx' '069xx'\n",
      " '144xx' '179xx' '567xx' '680xx' '314xx' '672xx' '424xx' '603xx' '361xx'\n",
      " '309xx' '572xx' '814xx' '781xx' '140xx' '644xx' '293xx' '175xx' '295xx'\n",
      " '713xx' '049xx' '072xx' '486xx' '265xx' '141xx' '678xx' '793xx' '307xx'\n",
      " '360xx' '563xx' '841xx' '626xx' '469xx' '648xx' '903xx' '258xx' '425xx'\n",
      " '149xx' '377xx' '272xx' '784xx' '612xx' '625xx' '703xx' '106xx' '270xx'\n",
      " '355xx' '539xx' '119xx' '954xx' '725xx' '831xx' '796xx' '184xx' '484xx'\n",
      " '200xx' '560xx' '219xx' '565xx' '707xx' '468xx' '063xx' '136xx' '499xx'\n",
      " '803xx' '974xx' '313xx' '530xx' '462xx' '492xx' '388xx' '769xx' '398xx'\n",
      " '493xx' '924xx' '638xx' '910xx' '135xx' '400xx' '650xx' '710xx' '776xx'\n",
      " '274xx' '535xx' '284xx' '108xx' '456xx' '996xx' '634xx' '196xx' '235xx'\n",
      " '230xx' '132xx' '581xx' '241xx' '470xx' '185xx' '667xx' '557xx' '973xx'\n",
      " '617xx' '183xx' '176xx' '609xx' '979xx' '261xx' '050xx' '229xx' '777xx'\n",
      " '145xx' '898xx' '319xx' '366xx' '614xx' '679xx' '591xx' '239xx' '808xx'\n",
      " '620xx' '736xx' '286xx' '271xx' '798xx' '510xx' '396xx' '597xx' '661xx'\n",
      " '728xx' '884xx' '669xx' '549xx' '804xx' '971xx' '860xx' '610xx' '299xx'\n",
      " '540xx' '390xx' '564xx' '035xx' '157xx' '943xx' '639xx' '737xx' '158xx'\n",
      " '897xx' '251xx' '724xx' '160xx' '767xx' '407xx' '815xx' '847xx' '596xx'\n",
      " '811xx' '586xx' '277xx' '409xx' '129xx' '747xx' '548xx' '199xx' '362xx'\n",
      " '989xx' '304xx' '722xx' '030xx' '263xx' '138xx' '613xx' '545xx' '252xx'\n",
      " '477xx' '544xx' '165xx' '485xx' '384xx' '242xx' '401xx' '904xx' '052xx'\n",
      " '828xx' '944xx' '298xx' '495xx' '412xx' '422xx' '580xx' '629xx' '562xx'\n",
      " '911xx' '085xx' '126xx' '864xx' '497xx' '645xx' '056xx' '228xx' '354xx'\n",
      " '573xx' '734xx' '531xx' '969xx' '583xx' '991xx' '473xx' '034xx' '599xx'\n",
      " '387xx' '664xx' '449xx' '383xx' '393xx' '268xx' '655xx' '594xx' '318xx'\n",
      " '404xx' '541xx' '997xx' '976xx' '147xx' '859xx' '685xx' '153xx' '749xx'\n",
      " '376xx' '874xx' '253xx' '116xx' '948xx' '592xx' '593xx' '084xx' '445xx'\n",
      " '389xx' '037xx' '873xx' '823xx' '259xx' '187xx' '623xx' '451xx' '653xx'\n",
      " '745xx' '478xx' '810xx' '148xx' '575xx' '260xx' '637xx' '537xx' '961xx'\n",
      " '040xx' '496xx' '243xx' '758xx' '262xx' '418xx' '174xx' '689xx' '779xx'\n",
      " '311xx' '247xx' '102xx' '825xx' '846xx' '714xx' '893xx' '542xx' '574xx'\n",
      " '022xx' '249xx' '075xx' '155xx' '182xx' '607xx' '012xx' '133xx' '789xx'\n",
      " '139xx' '438xx' '472xx' '651xx' '426xx' '162xx' '487xx' '250xx' '123xx'\n",
      " '457xx' '865xx' '718xx' '392xx' '687xx' '947xx' '094xx' '855xx' '768xx'\n",
      " '845xx' '654xx' '161xx' '033xx' '673xx' '137xx' '267xx' '646xx' '619xx'\n",
      " '025xx' '332xx' '676xx' '134xx' '990xx' '181xx' '246xx' '237xx' '391xx'\n",
      " '647xx' '118xx' '582xx' '169xx' '154xx' '039xx' '058xx' '576xx' '476xx'\n",
      " '382xx' '051xx' '688xx' '408xx' '546xx' '143xx' '098xx' '416xx' '264xx'\n",
      " '397xx' '838xx' '164xx' '792xx' '635xx' '877xx' '830xx' '772xx' '269xx'\n",
      " '340xx' '042xx' '417xx' '588xx' '717xx' '753xx' '256xx' '909xx' '783xx'\n",
      " '289xx' '044xx' '999xx' '766xx' '502xx' '585xx' '738xx' '367xx' '513xx'\n",
      " '602xx' '693xx' '963xx' '257xx' '046xx' '413xx' '668xx' '771xx' '739xx'\n",
      " '584xx' '824xx' '538xx' '248xx' '266xx' '683xx' '595xx' '677xx' '527xx'\n",
      " '048xx' '836xx' '690xx' '834xx' '045xx' '889xx' '684xx' '096xx' '686xx'\n",
      " '587xx' '047xx' '994xx' '036xx' '093xx' '556xx' '821xx' '092xx' '414xx'\n",
      " '832xx' '090xx' '511xx' '942xx' '007xx' '008xx' '879xx' '962xx' '528xx'\n",
      " '692xx' '742xx' '059xx' '833xx' '343xx' '509xx' '503xx' '091xx' '819xx'\n",
      " '965xx' '643xx' '835xx' '204xx' '682xx' '520xx' '348xx' '514xx' '429xx'\n",
      " '353xx' '854xx' '702xx' '097xx' '938xx' '663xx' '522xx' '507xx' '205xx'\n",
      " '888xx' '500xx' '837xx' '523xx' '901xx' '569xx' '861xx' '649xx']\n",
      "addr_state :  ['FL' 'MD' 'OH' 'VA' 'CA' 'IN' 'AL' 'KY' 'NM' 'TN' 'TX' 'PA' 'KS' 'IL' 'NY'\n",
      " 'MO' 'NC' 'NJ' 'CT' 'NH' 'MI' 'AZ' 'GA' 'UT' 'OK' 'NV' 'MN' 'VT' 'MA' 'DE'\n",
      " 'LA' 'WA' 'AR' 'CO' 'WV' 'HI' 'WI' 'SD' 'NE' 'RI' 'WY' 'SC' 'AK' 'MS' 'MT'\n",
      " 'OR' 'ME' 'DC' 'ND' 'IA' 'ID']\n",
      "dti :  [ 33.88   3.64  18.42 ...,  45.77  41.94  59.18]\n",
      "delinq_2yrs :  [  0.   3.   1.   4.   2.   5.  13.   6.  10.   9.  11.  14.   7.   8.  12.\n",
      "  18.  19.  15.  27.  16.  nan  24.  30.  21.  17.  26.  22.]\n",
      "inq_last_6mths :  [  1.   0.   2.   5.   3.   4.   6.   7.  11.   8.   9.  10.  12.  28.  17.\n",
      "  14.  24.  nan  15.  20.  16.  13.  31.  18.]\n",
      "mths_since_last_delinq :  [  50.   nan   46.   56.   77.   52.   82.   72.   11.   18.   28.   20.\n",
      "   73.   33.   23.   25.    6.   13.   26.   41.   19.   22.    4.   36.\n",
      "   51.   44.   75.   16.   47.   14.    9.   32.   63.   15.    1.   59.\n",
      "   37.   43.   29.    3.   58.   12.    8.   27.   74.   17.   53.   64.\n",
      "    5.   81.   49.    2.   62.   30.   55.   34.   68.   38.   48.   60.\n",
      "   45.   39.   78.   21.   24.   61.   54.   65.   80.   67.    7.   31.\n",
      "   70.   66.   76.   40.   57.   79.   42.   10.   71.    0.   35.   69.\n",
      "  136.  100.   93.   91.  121.   89.   85.  108.   87.  129.   90.   88.\n",
      "  112.   83.  119.   99.   84.  102.  101.  104.   92.  122.  103.  126.\n",
      "   97.   86.  113.   98.  115.  116.  176.  142.   95.  120.  118.   96.\n",
      "  151.  170.   94.  134.  148.  124.  114.  152.  110.  106.  131.  180.\n",
      "  133.  146.  105.  111.  117.  127.  159.  154.  123.  141.  135.  109.\n",
      "  107.  130.  171.  143.]\n",
      "mths_since_last_record :  [  75.   nan  105.   50.   72.  118.  106.   47.   93.   53.   81.  119.\n",
      "  117.  116.   54.   29.   38.   86.   94.   58.   77.  107.   31.   73.\n",
      "   49.   65.    2.   99.   83.   88.   76.  111.   55.   59.   68.   62.\n",
      "   61.   39.   56.   87.   92.  103.   21.   82.   69.   67.   66.   37.\n",
      "   30.   43.   63.  120.   35.   41.   51.   60.   71.  110.   33.   17.\n",
      "   44.   78.  115.   20.   89.  113.   90.  102.   85.  109.   45.   40.\n",
      "   91.   70.   98.   52.   79.   16.    9.   57.   80.  100.   42.  101.\n",
      "    8.  114.   34.   19.   23.   84.   97.  108.   27.   48.   46.   64.\n",
      "   74.   95.   18.    4.  104.   96.    0.   10.   13.   36.    7.   24.\n",
      "   28.    3.   26.   32.   25.   12.  112.   11.   22.   15.    5.    6.\n",
      "   14.    1.  121.]\n",
      "open_acc :  [ 14.   6.   5.  10.  11.  18.  13.  16.  12.  15.  19.   7.   9.   4.  26.\n",
      "   8.  21.  17.  23.   3.  29.  20.  37.  22.  25.  34.  24.  27.  28.   2.\n",
      "  30.  31.  33.  32.  36.  41.  35.  39.  38.  42.  40.  51.  45.  50.  46.\n",
      "  44.  43.  48.  70.   1.  47.  55.  49.  53.  58.  64.  56.  68.  nan  75.\n",
      "   0.  54.  79.  52.  59.  57.  62.  63.  67.  84.  76.  82.  90.  60.]\n",
      "pub_rec :  [  1.   0.   2.   3.   5.   4.   6.   7.  10.   8.  12.   9.  28.  21.  11.\n",
      "  13.  16.  17.  nan  20.  23.  49.  63.  14.  15.  40.  18.  22.  86.]\n",
      "revol_bal :  [ 22515.   7624.  10877. ...,  81363.  75542.  77432.]\n",
      "revol_util :  [  73.1    23.2    31.2  ...,  121.1   114.7     0.83]\n",
      "total_acc :  [  28.   13.   19.   21.   27.   30.   23.   49.   32.   31.   39.   17.\n",
      "   24.   35.   25.    9.   34.   14.   18.   12.    5.   37.   48.   38.\n",
      "   55.   29.   36.   51.   11.    8.   47.   10.   15.   20.   63.   22.\n",
      "   16.   40.   43.   59.   41.   26.    4.    7.   58.   52.   42.   33.\n",
      "   44.   57.   54.   53.   45.    6.   62.   60.   50.   61.   68.   46.\n",
      "   56.   85.   70.    3.   73.   72.   77.   82.   78.   94.   66.   86.\n",
      "   65.   67.   64.   79.   80.   69.   71.   81.  110.   96.   74.  112.\n",
      "   75.   87.   97.   90.   76.   89.   84.    2.   91.   95.   92.  104.\n",
      "  102.   83.  111.   93.   88.  126.  130.    1.  105.  124.   nan  106.\n",
      "  101.   99.  138.  116.  100.  113.  135.  127.  129.  119.  109.   98.\n",
      "  162.  107.  114.  117.  140.  103.  156.]\n",
      "initial_list_status :  ['f' 'w']\n",
      "total_rec_int :  [ 1173.84    83.95    56.47 ...,  6206.47  1193.39   158.82]\n",
      "total_rec_late_fee :  [  0.          68.04        24.16       ...,  41.07        30.92302235\n",
      "  25.02      ]\n",
      "recoveries :  [   0.    712.76  750.11 ...,  341.69  710.21  445.95]\n",
      "collection_recovery_fee :  [   0.        7.03    134.7958 ...,   26.3624  609.992   127.8378]\n",
      "collections_12_mths_ex_med :  [  0.   1.   2.   3.  nan   4.  16.   5.   7.  14.]\n",
      "mths_since_last_major_derog :  [  74.   nan   54.   52.   82.   72.   26.   18.   47.   50.   22.   66.\n",
      "   17.   44.   89.   35.   41.   32.   19.   78.   79.    3.   10.   56.\n",
      "   70.    7.   14.   53.   46.   16.   75.   48.   62.   55.   37.   34.\n",
      "   68.   11.   33.   69.   21.   67.    9.   23.   30.   15.   59.   49.\n",
      "   12.   28.   64.   51.   58.   13.   31.   65.   36.   60.   29.   45.\n",
      "   25.   43.   42.   81.   38.    8.   80.   63.   57.   73.   40.   86.\n",
      "    6.   61.   39.    5.   77.  125.  100.   24.   76.   92.  132.   20.\n",
      "    4.   71.    1.   90.   85.  116.  111.   27.   94.  108.  118.    2.\n",
      "   84.  135.   97.  120.  136.  119.  106.    0.  137.   95.  101.   93.\n",
      "  103.   91.  121.  122.  124.   87.  134.  123.  148.  146.  115.  127.\n",
      "   83.  129.  147.   96.   98.  138.  149.  107.  102.   88.  112.  105.\n",
      "  128.  142.  109.  133.  141.  150.  113.   99.  104.  130.  143.  110.\n",
      "  114.  139.  117.  144.  131.  126.  145.  153.  176.  159.  152.  151.\n",
      "  170.  140.  180.  154.  162.  165.  171.]\n",
      "application_type :  ['INDIVIDUAL' 'JOINT']\n",
      "verification_status_joint :  [nan 'Verified' 'Not Verified' 'Source Verified']\n",
      "last_week_pay :  ['26th week' '9th week' '135th week' '96th week' '113th week' '117th week'\n",
      " '78th week' '44th week' '52th week' '95th week' '48th week' '82th week'\n",
      " '35th week' '104th week' '17th week' '13th week' 'NAth week' '31th week'\n",
      " '30th week' '70th week' '4th week' '91th week' '65th week' '39th week'\n",
      " '83th week' '74th week' '22th week' '61th week' '156th week' '122th week'\n",
      " '174th week' '87th week' '139th week' '0th week' '57th week' '131th week'\n",
      " '152th week' '43th week' '161th week' '56th week' '170th week'\n",
      " '157th week' '109th week' '126th week' '100th week' '148th week'\n",
      " '265th week' '165th week' '261th week' '213th week' '222th week'\n",
      " '196th week' '130th week' '144th week' '244th week' '204th week'\n",
      " '69th week' '217th week' '143th week' '191th week' '21th week'\n",
      " '226th week' '18th week' '108th week' '79th week' '183th week'\n",
      " '178th week' '187th week' '252th week' '200th week' '118th week'\n",
      " '92th week' '121th week' '209th week' '239th week' '248th week'\n",
      " '169th week' '153th week' '235th week' '256th week' '8th week'\n",
      " '182th week' '230th week' '231th week' '257th week' '243th week'\n",
      " '205th week' '192th week' '270th week' '218th week' '283th week'\n",
      " '300th week' '221th week' '291th week' '278th week' '274th week'\n",
      " '269th week' '304th week']\n",
      "acc_now_delinq :  [  0.   1.   2.   4.   3.   5.  nan  14.   6.]\n",
      "tot_coll_amt :  [     0.     65.   1023. ...,  32379.   4206.   5872.]\n",
      "tot_cur_bal :  [  28699.    9974.   38295. ...,  556189.  121294.  189233.]\n",
      "total_rev_hi_lim :  [ 30800.  32900.  34900. ...,  70741.  28354.  40938.]\n",
      "loan_status :  [0 1]\n"
     ]
    }
   ],
   "source": [
    "# Columns unique values\n",
    "for col in data:\n",
    "    print(col, \": \", data[col].unique())"
   ]
  },
  {
   "cell_type": "markdown",
   "metadata": {},
   "source": [
    "## Preprocessing"
   ]
  },
  {
   "cell_type": "code",
   "execution_count": 5,
   "metadata": {
    "collapsed": false,
    "deletable": true,
    "editable": true
   },
   "outputs": [],
   "source": [
    "data = data.fillna(\"0\")"
   ]
  },
  {
   "cell_type": "code",
   "execution_count": 6,
   "metadata": {
    "collapsed": false,
    "deletable": true,
    "editable": true
   },
   "outputs": [],
   "source": [
    "data['last_week_pay'] = data['last_week_pay'].str.extract('(\\d+)', expand=False)\n",
    "data = data.fillna(\"0\")\n",
    "data['last_week_pay'] = data['last_week_pay'].astype(int)"
   ]
  },
  {
   "cell_type": "code",
   "execution_count": 7,
   "metadata": {
    "collapsed": false,
    "deletable": true,
    "editable": true
   },
   "outputs": [],
   "source": [
    "data['term'] = data['term'].str.extract('(\\d+)', expand=False).astype(int)\n",
    "data = data.fillna(\"0\")\n",
    "data['term'] = data['term'].astype(int)"
   ]
  },
  {
   "cell_type": "code",
   "execution_count": 8,
   "metadata": {
    "collapsed": false,
    "deletable": true,
    "editable": true
   },
   "outputs": [],
   "source": [
    "# Extract a new feature from term and last week pay\n",
    "\n",
    "data.insert(0, 'payment_completion', (data['last_week_pay']/(data['term']/12*52+1))*100)\n",
    "data['payment_completion'] = data['payment_completion'].astype(int)"
   ]
  },
  {
   "cell_type": "code",
   "execution_count": 9,
   "metadata": {
    "collapsed": false,
    "deletable": true,
    "editable": true
   },
   "outputs": [],
   "source": [
    "# Drop irrelevant features and text features\n",
    "drop_cols = ['member_id', 'batch_enrolled', 'desc', 'title', 'emp_title']\n",
    "data.drop(drop_cols, 1, inplace=True)"
   ]
  },
  {
   "cell_type": "code",
   "execution_count": 10,
   "metadata": {
    "collapsed": false,
    "deletable": true,
    "editable": true
   },
   "outputs": [
    {
     "name": "stdout",
     "output_type": "stream",
     "text": [
      "Encoded:  grade\n",
      "Encoded:  sub_grade\n",
      "Encoded:  emp_length\n",
      "Encoded:  home_ownership\n",
      "Encoded:  verification_status\n",
      "Encoded:  pymnt_plan\n",
      "Encoded:  purpose\n",
      "Encoded:  initial_list_status\n",
      "Encoded:  application_type\n",
      "Encoded:  verification_status_joint\n",
      "Encoded:  zip_code\n",
      "Encoded:  addr_state\n"
     ]
    }
   ],
   "source": [
    "# Encode Label for Classifier\n",
    "from sklearn.preprocessing import LabelEncoder\n",
    "\n",
    "cat_cols = ['grade', 'sub_grade', 'emp_length', 'home_ownership', 'verification_status', \n",
    "            'pymnt_plan', 'purpose', 'initial_list_status', 'application_type', \n",
    "            'verification_status_joint', 'zip_code', 'addr_state']\n",
    "le = {}\n",
    "\n",
    "for col in cat_cols:\n",
    "    le[col] = LabelEncoder()\n",
    "    data[col] = le[col].fit_transform(data[col])\n",
    "    le[col].classes_ = np.append(le[col].classes_, 'other')\n",
    "    \n",
    "    print('Encoded: ', col)"
   ]
  },
  {
   "cell_type": "code",
   "execution_count": 11,
   "metadata": {
    "collapsed": false,
    "deletable": true,
    "editable": true
   },
   "outputs": [
    {
     "data": {
      "text/html": [
       "<div>\n",
       "<table border=\"1\" class=\"dataframe\">\n",
       "  <thead>\n",
       "    <tr style=\"text-align: right;\">\n",
       "      <th></th>\n",
       "      <th>payment_completion</th>\n",
       "      <th>loan_amnt</th>\n",
       "      <th>funded_amnt</th>\n",
       "      <th>funded_amnt_inv</th>\n",
       "      <th>term</th>\n",
       "      <th>int_rate</th>\n",
       "      <th>grade</th>\n",
       "      <th>sub_grade</th>\n",
       "      <th>emp_length</th>\n",
       "      <th>home_ownership</th>\n",
       "      <th>...</th>\n",
       "      <th>collections_12_mths_ex_med</th>\n",
       "      <th>mths_since_last_major_derog</th>\n",
       "      <th>application_type</th>\n",
       "      <th>verification_status_joint</th>\n",
       "      <th>last_week_pay</th>\n",
       "      <th>acc_now_delinq</th>\n",
       "      <th>tot_coll_amt</th>\n",
       "      <th>tot_cur_bal</th>\n",
       "      <th>total_rev_hi_lim</th>\n",
       "      <th>loan_status</th>\n",
       "    </tr>\n",
       "  </thead>\n",
       "  <tbody>\n",
       "    <tr>\n",
       "      <th>0</th>\n",
       "      <td>16</td>\n",
       "      <td>14350</td>\n",
       "      <td>14350</td>\n",
       "      <td>14350.0</td>\n",
       "      <td>36</td>\n",
       "      <td>19.19</td>\n",
       "      <td>4</td>\n",
       "      <td>22</td>\n",
       "      <td>9</td>\n",
       "      <td>4</td>\n",
       "      <td>...</td>\n",
       "      <td>0</td>\n",
       "      <td>74</td>\n",
       "      <td>0</td>\n",
       "      <td>0</td>\n",
       "      <td>26</td>\n",
       "      <td>0</td>\n",
       "      <td>0</td>\n",
       "      <td>28699</td>\n",
       "      <td>30800</td>\n",
       "      <td>0</td>\n",
       "    </tr>\n",
       "    <tr>\n",
       "      <th>1</th>\n",
       "      <td>5</td>\n",
       "      <td>4800</td>\n",
       "      <td>4800</td>\n",
       "      <td>4800.0</td>\n",
       "      <td>36</td>\n",
       "      <td>10.99</td>\n",
       "      <td>1</td>\n",
       "      <td>8</td>\n",
       "      <td>10</td>\n",
       "      <td>1</td>\n",
       "      <td>...</td>\n",
       "      <td>0</td>\n",
       "      <td>0</td>\n",
       "      <td>0</td>\n",
       "      <td>0</td>\n",
       "      <td>9</td>\n",
       "      <td>0</td>\n",
       "      <td>0</td>\n",
       "      <td>9974</td>\n",
       "      <td>32900</td>\n",
       "      <td>0</td>\n",
       "    </tr>\n",
       "    <tr>\n",
       "      <th>2</th>\n",
       "      <td>5</td>\n",
       "      <td>10000</td>\n",
       "      <td>10000</td>\n",
       "      <td>10000.0</td>\n",
       "      <td>36</td>\n",
       "      <td>7.26</td>\n",
       "      <td>0</td>\n",
       "      <td>3</td>\n",
       "      <td>2</td>\n",
       "      <td>4</td>\n",
       "      <td>...</td>\n",
       "      <td>0</td>\n",
       "      <td>0</td>\n",
       "      <td>0</td>\n",
       "      <td>0</td>\n",
       "      <td>9</td>\n",
       "      <td>0</td>\n",
       "      <td>65</td>\n",
       "      <td>38295</td>\n",
       "      <td>34900</td>\n",
       "      <td>0</td>\n",
       "    </tr>\n",
       "    <tr>\n",
       "      <th>3</th>\n",
       "      <td>85</td>\n",
       "      <td>15000</td>\n",
       "      <td>15000</td>\n",
       "      <td>15000.0</td>\n",
       "      <td>36</td>\n",
       "      <td>19.72</td>\n",
       "      <td>3</td>\n",
       "      <td>19</td>\n",
       "      <td>1</td>\n",
       "      <td>5</td>\n",
       "      <td>...</td>\n",
       "      <td>0</td>\n",
       "      <td>0</td>\n",
       "      <td>0</td>\n",
       "      <td>0</td>\n",
       "      <td>135</td>\n",
       "      <td>0</td>\n",
       "      <td>0</td>\n",
       "      <td>55564</td>\n",
       "      <td>24700</td>\n",
       "      <td>0</td>\n",
       "    </tr>\n",
       "    <tr>\n",
       "      <th>4</th>\n",
       "      <td>61</td>\n",
       "      <td>16000</td>\n",
       "      <td>16000</td>\n",
       "      <td>16000.0</td>\n",
       "      <td>36</td>\n",
       "      <td>10.64</td>\n",
       "      <td>1</td>\n",
       "      <td>6</td>\n",
       "      <td>1</td>\n",
       "      <td>5</td>\n",
       "      <td>...</td>\n",
       "      <td>0</td>\n",
       "      <td>0</td>\n",
       "      <td>0</td>\n",
       "      <td>0</td>\n",
       "      <td>96</td>\n",
       "      <td>0</td>\n",
       "      <td>0</td>\n",
       "      <td>47159</td>\n",
       "      <td>47033</td>\n",
       "      <td>0</td>\n",
       "    </tr>\n",
       "  </tbody>\n",
       "</table>\n",
       "<p>5 rows × 41 columns</p>\n",
       "</div>"
      ],
      "text/plain": [
       "   payment_completion  loan_amnt  funded_amnt  funded_amnt_inv  term  \\\n",
       "0                  16      14350        14350          14350.0    36   \n",
       "1                   5       4800         4800           4800.0    36   \n",
       "2                   5      10000        10000          10000.0    36   \n",
       "3                  85      15000        15000          15000.0    36   \n",
       "4                  61      16000        16000          16000.0    36   \n",
       "\n",
       "   int_rate  grade  sub_grade  emp_length  home_ownership     ...      \\\n",
       "0     19.19      4         22           9               4     ...       \n",
       "1     10.99      1          8          10               1     ...       \n",
       "2      7.26      0          3           2               4     ...       \n",
       "3     19.72      3         19           1               5     ...       \n",
       "4     10.64      1          6           1               5     ...       \n",
       "\n",
       "  collections_12_mths_ex_med  mths_since_last_major_derog  application_type  \\\n",
       "0                          0                           74                 0   \n",
       "1                          0                            0                 0   \n",
       "2                          0                            0                 0   \n",
       "3                          0                            0                 0   \n",
       "4                          0                            0                 0   \n",
       "\n",
       "   verification_status_joint  last_week_pay  acc_now_delinq  tot_coll_amt  \\\n",
       "0                          0             26               0             0   \n",
       "1                          0              9               0             0   \n",
       "2                          0              9               0            65   \n",
       "3                          0            135               0             0   \n",
       "4                          0             96               0             0   \n",
       "\n",
       "  tot_cur_bal total_rev_hi_lim loan_status  \n",
       "0       28699            30800           0  \n",
       "1        9974            32900           0  \n",
       "2       38295            34900           0  \n",
       "3       55564            24700           0  \n",
       "4       47159            47033           0  \n",
       "\n",
       "[5 rows x 41 columns]"
      ]
     },
     "execution_count": 11,
     "metadata": {},
     "output_type": "execute_result"
    }
   ],
   "source": [
    "data[:5]"
   ]
  },
  {
   "cell_type": "code",
   "execution_count": 12,
   "metadata": {
    "collapsed": false,
    "deletable": true,
    "editable": true
   },
   "outputs": [
    {
     "name": "stdout",
     "output_type": "stream",
     "text": [
      "payment_completion :  [ 16   5  85  61  71  74  49  28  19  60  30  52  22  36  66  10   4   0\n",
      "  29  44   2   6  34   8   1  11  41  14  24  33  39  47  23  13  99  46\n",
      "   3  26  57  88   9  21  83  58  18  38  27 102  77  50 108  31  96 100\n",
      "  69  48  80  56  55 101 105  63  81  43  75  53  82  35  91  93  94  78\n",
      "  73  86  68  54  59  51  70 116 113  76 121  65  95  64 110  90  98 107\n",
      "  45 157  97 119 127 103 146 115 124 138 180 191  84 185 106 135 152 129\n",
      " 168 163 104 143 171 193 147]\n",
      "loan_amnt :  [14350  4800 10000 ..., 34600   725   925]\n",
      "funded_amnt :  [14350  4800 10000 ..., 34600   725   925]\n",
      "funded_amnt_inv :  [ 14350.           4800.          10000.         ...,   4687.79228349\n",
      "  17901.7719906    8283.54      ]\n",
      "term :  [36 60]\n",
      "int_rate :  [ 19.19  10.99   7.26  19.72  10.64   8.9    7.9    9.17  13.99  17.14\n",
      "  13.33  18.49   6.99   6.03  13.65  15.61  21.7   16.99   9.99  17.86\n",
      "   6.62  17.57  13.66   7.89  12.99   6.92  16.59  12.69   8.18  19.52\n",
      "  13.98  14.85  18.55  20.49  12.29   8.19  16.49   8.39  18.75  13.67\n",
      "  16.29  24.08  14.31   8.67  11.14  17.76  14.64  14.48  14.65  12.12\n",
      "  16.55  13.18  23.83  11.67  18.84  19.99  14.33  18.2   23.4   10.38\n",
      "  15.99  14.99  13.35  18.25  12.39  24.99  22.99  10.16   5.32  19.42\n",
      "  11.99  13.11  20.99  11.44  16.78  18.78  13.49  18.85  21.99  14.49\n",
      "  10.15  21.67   6.89  11.53  12.49   9.49   9.76  20.31   7.49  15.31\n",
      "  22.15  12.59  28.49  18.99  12.85  16.32   6.24   6.49  25.57  11.55\n",
      "  10.65  13.53  14.98  21.15   7.69   9.71  13.8   11.71  12.05  20.5\n",
      "   8.38  19.05  23.99  18.24  22.47  15.59  16.2   12.35  16.24   7.62\n",
      "  14.3    5.42   6.17  15.23  21.49   6.68  14.09  17.97  18.39  10.75\n",
      "  24.5   18.54  15.57   7.88  21.    22.7   15.1   20.2   15.8   19.03\n",
      "  17.49  17.27  14.27   7.91  22.95  15.22   6.39  25.78  11.22  23.43\n",
      "  19.22  12.23  10.62   7.29  17.77  10.74   7.51   9.67  10.59   7.12\n",
      "  25.89  21.59  10.49  18.92  11.49  15.41  18.64  12.42  15.88  19.47\n",
      "  21.6   14.16   5.93  20.8   14.47  22.45  19.29   9.8   14.83  10.36\n",
      "  25.99   5.99  13.16  19.91  16.77  13.68  20.3    9.32  22.2   10.25   8.\n",
      "   9.25  21.48  19.24  15.27  16.89  10.78  23.7    9.91   9.88  15.95\n",
      "  13.43  25.8   13.05  17.56  19.04  21.98  26.06   7.66  27.31  14.91\n",
      "  17.1   14.11  18.67  17.99  19.2   15.96   7.74  12.21  11.36  19.48\n",
      "  22.4   16.45  13.79  13.92  19.97  23.63   8.49  14.79  17.43  17.51\n",
      "  21.18   8.63  23.28  12.73  14.26  10.95   8.94  11.48  23.76  11.11\n",
      "  24.83  10.     6.54  14.72  12.87  14.42  13.22  15.62  12.61   7.05\n",
      "   9.62  23.1   17.39  15.33  19.74  16.95  22.35  11.86  26.77  16.35\n",
      "  10.37  27.88  13.85   5.79  15.65  14.17  11.97   6.97  15.77  11.34\n",
      "  12.84  17.58  14.96  15.21  14.35  25.28   6.    12.68   7.68  11.12  16.\n",
      "  22.9   25.83   9.33  13.06  18.91  11.78  24.24  24.59  15.58  11.91\n",
      "   9.63   8.88  11.26  13.72   8.32  13.48  11.83  11.03  11.54  13.44\n",
      "  12.88  22.06  20.25  15.28  23.33  12.18  17.93  28.99  12.04  13.23\n",
      "  15.81  15.05  13.57  17.26  12.53  16.82  16.4   19.41  16.02  24.89\n",
      "  14.22  18.79  13.84  21.14   7.14   7.37   8.6   23.5   19.79  10.83\n",
      "   9.83   6.76   9.45  17.19  22.74  13.24  12.98  19.89  15.37  13.12\n",
      "   6.91  14.18  16.63  21.97   7.4   13.61  22.78  24.7   14.54  15.7\n",
      "   9.64  13.47  10.39  16.08  17.88  11.41   8.59   9.96  20.48  23.59\n",
      "  20.85  14.84  13.93  19.69  23.26  23.13  16.7   10.71  20.89  22.48\n",
      "  10.01   7.43  13.55  10.08  14.46  11.66  18.3   17.06  18.43  11.89\n",
      "  15.2   14.59  21.74  14.07  16.07  22.11   8.07  18.62  19.39  16.69\n",
      "  13.87  12.92  12.17  14.88  21.27  24.2   11.28  10.96  15.38  11.46\n",
      "  14.43  14.61  14.74  14.5   25.09  12.09  24.33  13.75  11.58  17.74\n",
      "  24.52  21.64  21.28  24.11  17.66   9.51  15.68  12.54  19.66  19.36\n",
      "  14.93  12.86  14.38  16.11  14.7   12.8   17.8   10.33  16.28  13.3\n",
      "  15.45  14.82  10.28  21.22  20.62  17.22  11.09  18.29  13.17   9.01\n",
      "  20.11   9.07  20.17   7.75  21.36  18.86   9.2   18.17   9.38  17.15\n",
      "  15.83  15.01  12.67  23.52  20.03  12.41  11.59  12.72  18.21  15.07\n",
      "  16.15  18.09  13.04  26.99  16.65  16.71  15.76  10.91  17.03  17.04\n",
      "  11.63  22.94  20.86  14.12  27.99  23.22  27.49  20.53  10.2    8.7\n",
      "  11.72  15.25  10.51  14.75  15.13  21.82  18.61  10.46  12.62  17.54\n",
      "  12.22  20.77  23.91  13.36  20.52   7.42  12.36  19.13  14.67  14.25\n",
      "  17.9   20.4   18.04  10.14  17.44  19.16  17.34  15.51  16.96  20.16\n",
      "  16.46  16.33  16.01   9.7   20.9   22.85  18.36  20.69  17.59  18.53\n",
      "  13.62  16.91  17.91  14.57  14.28  18.07  17.46  19.82  24.76  21.21\n",
      "  17.09  14.62  17.28]\n",
      "grade :  [4 1 0 3 2 5 6]\n",
      "sub_grade :  [22  8  3 19  6  4  5 13 18 12 16  2  0 10 15 21  7  1 11 14 23 17  9 26 29\n",
      " 20 24 28 25 27 33 32 34 30 31]\n",
      "emp_length :  [ 9 10  2  1  5  8  7  4 11  0  3  6]\n",
      "home_ownership :  [4 1 5 3 2 0]\n",
      "annual_inc :  [28700.0 65000.0 45000.0 ..., 852000.0 47839.44 50077.0]\n",
      "verification_status :  [1 0 2]\n",
      "pymnt_plan :  [0 1]\n",
      "purpose :  [ 2  4  1  9  6 11 12  0  8  7 13 10  5  3]\n",
      "zip_code :  [333 195 427 206 821 440 834 335 838 408 803 847 364 714 843 840 180 617\n",
      " 561 307 103 849 585 322 270 705 336 698  64  58 823 691 873 320 101 450\n",
      " 613 160 701 859  70 114 179  89 829 445  55 157  30 477 410  74 787 800\n",
      " 286 473 778  67 315 469 711 183 681 815 267 513 404 417 732 258 363 290\n",
      "  48 312  11  96  93 186 653 869 621 905  13 272 209 217 785 525 582 305\n",
      " 740 268 841  92 672 392 723   7 361 514 702 104 397 422 329 189 899  12\n",
      " 900 263 663 757 239  65 424 102 460 387 796 886 421   9 432 198 727 319\n",
      " 508 670 462 354 791 846 318 871 453 326 693 703  71 347 302 175 225  79\n",
      " 202 844 212 313 321 855 559 273 578 306 836  90 870 594 100 311 438 848\n",
      " 728 348  52 356 584 866 384 528 632 423 330  20 504 152 676 696 288 218\n",
      "  61  62  16 331 340 182 853 809 221 593 662 210 205 555 761   6  23 792\n",
      " 861 442 879 119 207 402 682 817 765 412 458 872   2 314 700 655 199 685\n",
      " 282 715  80 393 625 193 309 814 323 110  51 316 750 287 851 898 349 560\n",
      " 807 622 535 650 842 343  98 240 197 496 566 902  78 196 266 468 780 166\n",
      " 459 912 334 828 385 651 368 116 781 875 878 106 439 743  24 327 419 378\n",
      " 353 352 729 788 818 140 827 139 229 556 833 178 159 573 260 748 203 117\n",
      " 454 726 669 664 141 545 865 467 581  15 416 194 223 420 261 161 901  94\n",
      " 461 435 642 426 877 285 854 281 896 145 876 310 721 495 357 589 835 355\n",
      " 768 890   3  77 264 695 704 850 706 716 293  19 895 570 169 518 470 529\n",
      "  72 852 434 656  10  21  35 148 120 799 433 741 342 586 111  56 808 856\n",
      " 649 295 738 731 719 692 388 563 167 915 185 201 279 553 211 324  73 444\n",
      " 430 611 219 747 753 276 200 443 626 857  18 520 414  57 192 645   5 511\n",
      " 208   8 826 181 684  53 369 411 517 810 893 805 291 162 415 297 674 735\n",
      " 646 673 428 446  59 910 888 113 786 659 697 616 230 904 837 131 576 362\n",
      " 609 155 608 358 736 135 687 341  46 300 860 666 177 413  33 909 377  69\n",
      " 401 308 265 903 109  99 571 885 742 754 156 275 766 604 689 839 759  68\n",
      " 216  45 277 880 746 301 512 610  60 133 168 526 631 299 623 405 558 345\n",
      " 294 530 755 722 129 596 278 164 280 657  41  63 465 250 130 629 734 292\n",
      " 344 522 779 580 448 600 824 243 406 138 360 257 725 567 579 648  95 255\n",
      " 339 500 108 874 668 770 737 173 463 188 519 204 524 652 447  54 125 478\n",
      " 744 892 298 493 441 471 371 710 381 472 845 591 831 124 382 602 654 717\n",
      " 259 497 269  97 436 913 587 184 220 215 121 537 226 449 174 618 516 891\n",
      " 572 172 165 564 897 246  42 214 718 134 820 304 350 569 630 546 224 749\n",
      " 575 677 271 256 739 484 379 552 612 671 811 620 510 745 889 794 565 284\n",
      " 501 373 523  27 146 863 592 678 147 819 236 667 149 708 389 756 784 551\n",
      " 752 542 262 391 118 688 509 187 346 906 289 665  22 248 127 568 506 237\n",
      " 456 505 154 464 367 227 383 825  44 767 864 283 474 394 403 536 583 521\n",
      " 832  76 115 797 476 597  47 213 338 531 675 494 887 539 908 452  26 554\n",
      " 370 615 429 366 376 253 607 549 303 386 502 914 894 136 793 636 142 690\n",
      " 359 802 238 105 868 547 548  75 425 372  29 801 762 244 176 577 431 605\n",
      " 686 457 751 137 533 245 590 498 881  32 475 228 699 247 400 163 640 720\n",
      " 296 232  91 764 783 658 816 503 532  14 234  66 144 171 562   4 122 730\n",
      " 128 418 451 603 407 151 466 235 112 437 798 661 375 638 867  85 790 709\n",
      " 782 606 150  25 624 126 252 598 574  17 317 627 123 907 170 231 222 374\n",
      " 599 107 538 158 143  31  49 534 455 365  43 639 390 507 132  88 398 249\n",
      " 380 777 153 733 588 804 769 713 254 325  34 399 544 660 694 241 830 724\n",
      " 274  36 916 707 480 541 679 351 486 557 644 883 242  38 395 619 712 680\n",
      " 540 763 499 233 251 634 550 628 491  40 775 641 773  37 813 635  86 637\n",
      " 543  39 911  28  84 515 760  83 396 771  81 485 862   0   1 806 882 492\n",
      " 643 683  50 772 328 483 481  82 758 884 595 774 190 633 488 332 487 409\n",
      " 337 789 647  87 858 614 489 482 191 812 479 776 490 822 527 795 601]\n",
      "addr_state :  [ 9 20 35 45  4 15  1 17 32 42 43 38 16 14 34 24 27 31  6 30 22  3 10 44 36\n",
      " 33 23 46 19  8 18 47  2  5 49 11 48 41 29 39 50 40  0 25 26 37 21  7 28 12\n",
      " 13]\n",
      "dti :  [ 33.88   3.64  18.42 ...,  45.77  41.94  59.18]\n",
      "delinq_2yrs :  [0.0 3.0 1.0 4.0 2.0 5.0 13.0 6.0 10.0 9.0 11.0 14.0 7.0 8.0 12.0 18.0 19.0\n",
      " 15.0 27.0 16.0 '0' 24.0 30.0 21.0 17.0 26.0 22.0]\n",
      "inq_last_6mths :  [1.0 0.0 2.0 5.0 3.0 4.0 6.0 7.0 11.0 8.0 9.0 10.0 12.0 28.0 17.0 14.0 24.0\n",
      " '0' 15.0 20.0 16.0 13.0 31.0 18.0]\n",
      "mths_since_last_delinq :  [50.0 '0' 46.0 56.0 77.0 52.0 82.0 72.0 11.0 18.0 28.0 20.0 73.0 33.0 23.0\n",
      " 25.0 6.0 13.0 26.0 41.0 19.0 22.0 4.0 36.0 51.0 44.0 75.0 16.0 47.0 14.0\n",
      " 9.0 32.0 63.0 15.0 1.0 59.0 37.0 43.0 29.0 3.0 58.0 12.0 8.0 27.0 74.0\n",
      " 17.0 53.0 64.0 5.0 81.0 49.0 2.0 62.0 30.0 55.0 34.0 68.0 38.0 48.0 60.0\n",
      " 45.0 39.0 78.0 21.0 24.0 61.0 54.0 65.0 80.0 67.0 7.0 31.0 70.0 66.0 76.0\n",
      " 40.0 57.0 79.0 42.0 10.0 71.0 0.0 35.0 69.0 136.0 100.0 93.0 91.0 121.0\n",
      " 89.0 85.0 108.0 87.0 129.0 90.0 88.0 112.0 83.0 119.0 99.0 84.0 102.0\n",
      " 101.0 104.0 92.0 122.0 103.0 126.0 97.0 86.0 113.0 98.0 115.0 116.0 176.0\n",
      " 142.0 95.0 120.0 118.0 96.0 151.0 170.0 94.0 134.0 148.0 124.0 114.0 152.0\n",
      " 110.0 106.0 131.0 180.0 133.0 146.0 105.0 111.0 117.0 127.0 159.0 154.0\n",
      " 123.0 141.0 135.0 109.0 107.0 130.0 171.0 143.0]\n",
      "mths_since_last_record :  [75.0 '0' 105.0 50.0 72.0 118.0 106.0 47.0 93.0 53.0 81.0 119.0 117.0 116.0\n",
      " 54.0 29.0 38.0 86.0 94.0 58.0 77.0 107.0 31.0 73.0 49.0 65.0 2.0 99.0 83.0\n",
      " 88.0 76.0 111.0 55.0 59.0 68.0 62.0 61.0 39.0 56.0 87.0 92.0 103.0 21.0\n",
      " 82.0 69.0 67.0 66.0 37.0 30.0 43.0 63.0 120.0 35.0 41.0 51.0 60.0 71.0\n",
      " 110.0 33.0 17.0 44.0 78.0 115.0 20.0 89.0 113.0 90.0 102.0 85.0 109.0 45.0\n",
      " 40.0 91.0 70.0 98.0 52.0 79.0 16.0 9.0 57.0 80.0 100.0 42.0 101.0 8.0\n",
      " 114.0 34.0 19.0 23.0 84.0 97.0 108.0 27.0 48.0 46.0 64.0 74.0 95.0 18.0\n",
      " 4.0 104.0 96.0 0.0 10.0 13.0 36.0 7.0 24.0 28.0 3.0 26.0 32.0 25.0 12.0\n",
      " 112.0 11.0 22.0 15.0 5.0 6.0 14.0 1.0 121.0]\n",
      "open_acc :  [14.0 6.0 5.0 10.0 11.0 18.0 13.0 16.0 12.0 15.0 19.0 7.0 9.0 4.0 26.0 8.0\n",
      " 21.0 17.0 23.0 3.0 29.0 20.0 37.0 22.0 25.0 34.0 24.0 27.0 28.0 2.0 30.0\n",
      " 31.0 33.0 32.0 36.0 41.0 35.0 39.0 38.0 42.0 40.0 51.0 45.0 50.0 46.0 44.0\n",
      " 43.0 48.0 70.0 1.0 47.0 55.0 49.0 53.0 58.0 64.0 56.0 68.0 '0' 75.0 0.0\n",
      " 54.0 79.0 52.0 59.0 57.0 62.0 63.0 67.0 84.0 76.0 82.0 90.0 60.0]\n",
      "pub_rec :  [1.0 0.0 2.0 3.0 5.0 4.0 6.0 7.0 10.0 8.0 12.0 9.0 28.0 21.0 11.0 13.0 16.0\n",
      " 17.0 '0' 20.0 23.0 49.0 63.0 14.0 15.0 40.0 18.0 22.0 86.0]\n",
      "revol_bal :  [ 22515.   7624.  10877. ...,  81363.  75542.  77432.]\n",
      "revol_util :  [73.1 23.2 31.2 ..., 121.1 114.7 0.83]\n",
      "total_acc :  [28.0 13.0 19.0 21.0 27.0 30.0 23.0 49.0 32.0 31.0 39.0 17.0 24.0 35.0 25.0\n",
      " 9.0 34.0 14.0 18.0 12.0 5.0 37.0 48.0 38.0 55.0 29.0 36.0 51.0 11.0 8.0\n",
      " 47.0 10.0 15.0 20.0 63.0 22.0 16.0 40.0 43.0 59.0 41.0 26.0 4.0 7.0 58.0\n",
      " 52.0 42.0 33.0 44.0 57.0 54.0 53.0 45.0 6.0 62.0 60.0 50.0 61.0 68.0 46.0\n",
      " 56.0 85.0 70.0 3.0 73.0 72.0 77.0 82.0 78.0 94.0 66.0 86.0 65.0 67.0 64.0\n",
      " 79.0 80.0 69.0 71.0 81.0 110.0 96.0 74.0 112.0 75.0 87.0 97.0 90.0 76.0\n",
      " 89.0 84.0 2.0 91.0 95.0 92.0 104.0 102.0 83.0 111.0 93.0 88.0 126.0 130.0\n",
      " 1.0 105.0 124.0 '0' 106.0 101.0 99.0 138.0 116.0 100.0 113.0 135.0 127.0\n",
      " 129.0 119.0 109.0 98.0 162.0 107.0 114.0 117.0 140.0 103.0 156.0]\n",
      "initial_list_status :  [0 1]\n",
      "total_rec_int :  [ 1173.84    83.95    56.47 ...,  6206.47  1193.39   158.82]\n",
      "total_rec_late_fee :  [  0.          68.04        24.16       ...,  41.07        30.92302235\n",
      "  25.02      ]\n",
      "recoveries :  [   0.    712.76  750.11 ...,  341.69  710.21  445.95]\n",
      "collection_recovery_fee :  [   0.        7.03    134.7958 ...,   26.3624  609.992   127.8378]\n",
      "collections_12_mths_ex_med :  [0.0 1.0 2.0 3.0 '0' 4.0 16.0 5.0 7.0 14.0]\n",
      "mths_since_last_major_derog :  [74.0 '0' 54.0 52.0 82.0 72.0 26.0 18.0 47.0 50.0 22.0 66.0 17.0 44.0 89.0\n",
      " 35.0 41.0 32.0 19.0 78.0 79.0 3.0 10.0 56.0 70.0 7.0 14.0 53.0 46.0 16.0\n",
      " 75.0 48.0 62.0 55.0 37.0 34.0 68.0 11.0 33.0 69.0 21.0 67.0 9.0 23.0 30.0\n",
      " 15.0 59.0 49.0 12.0 28.0 64.0 51.0 58.0 13.0 31.0 65.0 36.0 60.0 29.0 45.0\n",
      " 25.0 43.0 42.0 81.0 38.0 8.0 80.0 63.0 57.0 73.0 40.0 86.0 6.0 61.0 39.0\n",
      " 5.0 77.0 125.0 100.0 24.0 76.0 92.0 132.0 20.0 4.0 71.0 1.0 90.0 85.0\n",
      " 116.0 111.0 27.0 94.0 108.0 118.0 2.0 84.0 135.0 97.0 120.0 136.0 119.0\n",
      " 106.0 0.0 137.0 95.0 101.0 93.0 103.0 91.0 121.0 122.0 124.0 87.0 134.0\n",
      " 123.0 148.0 146.0 115.0 127.0 83.0 129.0 147.0 96.0 98.0 138.0 149.0 107.0\n",
      " 102.0 88.0 112.0 105.0 128.0 142.0 109.0 133.0 141.0 150.0 113.0 99.0\n",
      " 104.0 130.0 143.0 110.0 114.0 139.0 117.0 144.0 131.0 126.0 145.0 153.0\n",
      " 176.0 159.0 152.0 151.0 170.0 140.0 180.0 154.0 162.0 165.0 171.0]\n",
      "application_type :  [0 1]\n",
      "verification_status_joint :  [0 3 1 2]\n",
      "last_week_pay :  [ 26   9 135  96 113 117  78  44  52  95  48  82  35 104  17  13   0  31\n",
      "  30  70   4  91  65  39  83  74  22  61 156 122 174  87 139  57 131 152\n",
      "  43 161  56 170 157 109 126 100 148 265 165 261 213 222 196 130 144 244\n",
      " 204  69 217 143 191  21 226  18 108  79 183 178 187 252 200 118  92 121\n",
      " 209 239 248 169 153 235 256   8 182 230 231 257 243 205 192 270 218 283\n",
      " 300 221 291 278 274 269 304]\n",
      "acc_now_delinq :  [0.0 1.0 2.0 4.0 3.0 5.0 '0' 14.0 6.0]\n",
      "tot_coll_amt :  [0.0 65.0 1023.0 ..., 32379.0 4206.0 5872.0]\n",
      "tot_cur_bal :  [28699.0 9974.0 38295.0 ..., 556189.0 121294.0 189233.0]\n",
      "total_rev_hi_lim :  [30800.0 32900.0 34900.0 ..., 70741.0 28354.0 40938.0]\n",
      "loan_status :  [0 1]\n"
     ]
    }
   ],
   "source": [
    "# New columns unique values\n",
    "for col in data:\n",
    "    print(col, \": \", data[col].unique())"
   ]
  },
  {
   "cell_type": "markdown",
   "metadata": {},
   "source": [
    "## Features Values Exploration"
   ]
  },
  {
   "cell_type": "code",
   "execution_count": 13,
   "metadata": {
    "collapsed": false,
    "deletable": true,
    "editable": true
   },
   "outputs": [
    {
     "data": {
      "text/plain": [
       "payment_completion               int64\n",
       "loan_amnt                        int64\n",
       "funded_amnt                      int64\n",
       "funded_amnt_inv                float64\n",
       "term                             int64\n",
       "int_rate                       float64\n",
       "grade                            int64\n",
       "sub_grade                        int64\n",
       "emp_length                       int64\n",
       "home_ownership                   int64\n",
       "annual_inc                      object\n",
       "verification_status              int64\n",
       "pymnt_plan                       int64\n",
       "purpose                          int64\n",
       "zip_code                         int64\n",
       "addr_state                       int64\n",
       "dti                            float64\n",
       "delinq_2yrs                     object\n",
       "inq_last_6mths                  object\n",
       "mths_since_last_delinq          object\n",
       "mths_since_last_record          object\n",
       "open_acc                        object\n",
       "pub_rec                         object\n",
       "revol_bal                      float64\n",
       "revol_util                      object\n",
       "total_acc                       object\n",
       "initial_list_status              int64\n",
       "total_rec_int                  float64\n",
       "total_rec_late_fee             float64\n",
       "recoveries                     float64\n",
       "collection_recovery_fee        float64\n",
       "collections_12_mths_ex_med      object\n",
       "mths_since_last_major_derog     object\n",
       "application_type                 int64\n",
       "verification_status_joint        int64\n",
       "last_week_pay                    int64\n",
       "acc_now_delinq                  object\n",
       "tot_coll_amt                    object\n",
       "tot_cur_bal                     object\n",
       "total_rev_hi_lim                object\n",
       "loan_status                      int64\n",
       "dtype: object"
      ]
     },
     "execution_count": 13,
     "metadata": {},
     "output_type": "execute_result"
    }
   ],
   "source": [
    "data.dtypes"
   ]
  },
  {
   "cell_type": "code",
   "execution_count": 14,
   "metadata": {
    "collapsed": false,
    "deletable": true,
    "editable": true
   },
   "outputs": [
    {
     "data": {
      "text/plain": [
       "<matplotlib.axes._subplots.AxesSubplot at 0x11a4dbb38>"
      ]
     },
     "execution_count": 14,
     "metadata": {},
     "output_type": "execute_result"
    },
    {
     "data": {
      "image/png": "[encoded data removed]",
      "text/plain": [
       "<matplotlib.figure.Figure at 0x11a4f8438>"
      ]
     },
     "metadata": {},
     "output_type": "display_data"
    }
   ],
   "source": [
    "data.loan_amnt.hist(bins=40)"
   ]
  },
  {
   "cell_type": "code",
   "execution_count": 15,
   "metadata": {
    "collapsed": false,
    "deletable": true,
    "editable": true
   },
   "outputs": [
    {
     "data": {
      "text/plain": [
       "<matplotlib.axes._subplots.AxesSubplot at 0x11a03a8d0>"
      ]
     },
     "execution_count": 15,
     "metadata": {},
     "output_type": "execute_result"
    },
    {
     "data": {
      "image/png": "[encoded data removed]",
      "text/plain": [
       "<matplotlib.figure.Figure at 0x11ba48710>"
      ]
     },
     "metadata": {},
     "output_type": "display_data"
    }
   ],
   "source": [
    "data.funded_amnt.hist(bins=40)"
   ]
  },
  {
   "cell_type": "code",
   "execution_count": 16,
   "metadata": {
    "collapsed": false,
    "deletable": true,
    "editable": true
   },
   "outputs": [
    {
     "data": {
      "image/png": "[encoded data removed]",
      "text/plain": [
       "<matplotlib.figure.Figure at 0x11fd724e0>"
      ]
     },
     "metadata": {},
     "output_type": "display_data"
    }
   ],
   "source": [
    "data.loan_status.value_counts().plot(kind=\"bar\", title=\"Datapoints in each class\");"
   ]
  },
  {
   "cell_type": "markdown",
   "metadata": {},
   "source": [
    "## Split Training Set and Model Building with Random Forest Classifier"
   ]
  },
  {
   "cell_type": "code",
   "execution_count": 17,
   "metadata": {
    "collapsed": true,
    "deletable": true,
    "editable": true
   },
   "outputs": [],
   "source": [
    "from sklearn.ensemble import RandomForestClassifier\n",
    "from sklearn.metrics import roc_curve, roc_auc_score"
   ]
  },
  {
   "cell_type": "code",
   "execution_count": 18,
   "metadata": {
    "collapsed": false,
    "deletable": true,
    "editable": true
   },
   "outputs": [],
   "source": [
    "split = int(len(data)*0.8)\n",
    "\n",
    "# four most important features, performance score = 0.8685\n",
    "major = ['tot_cur_bal', 'last_week_pay', 'total_rev_hi_lim', 'int_rate']\n",
    "\n",
    "# not so important features, performance score = 0.7634\n",
    "minor = ['tot_cur_bal','zip_code', 'addr_state', 'revol_util', 'revol_bal', 'sub_grade', 'annual_inc', 'total_rec_int']\n",
    "\n",
    "data = data.dropna()\n",
    "X_train = data[data['loan_status'] >= 0].iloc[:split,:-1][major]\n",
    "Y_train = data[data['loan_status'] >= 0].iloc[:split,-1:]\n",
    "X_test = data[data['loan_status'] >= 0].iloc[split:,:-1][major]\n",
    "Y_test = data[data['loan_status'] >= 0].iloc[split:,-1:]"
   ]
  },
  {
   "cell_type": "code",
   "execution_count": 19,
   "metadata": {
    "collapsed": true,
    "deletable": true,
    "editable": true
   },
   "outputs": [],
   "source": [
    "# load model from pretrained model\n",
    "#rf = joblib.load('rf01.pkl') "
   ]
  },
  {
   "cell_type": "code",
   "execution_count": 20,
   "metadata": {
    "collapsed": false,
    "deletable": true,
    "editable": true
   },
   "outputs": [
    {
     "name": "stderr",
     "output_type": "stream",
     "text": [
      "/Users/jincongho/anaconda/envs/jupyter3/lib/python3.6/site-packages/ipykernel/__main__.py:2: DataConversionWarning: A column-vector y was passed when a 1d array was expected. Please change the shape of y to (n_samples,), for example using ravel().\n",
      "  from ipykernel import kernelapp as app\n"
     ]
    },
    {
     "name": "stdout",
     "output_type": "stream",
     "text": [
      "building tree 3 of 100building tree 1 of 100building tree 4 of 100\n",
      "\n",
      "\n",
      "building tree 2 of 100\n",
      "building tree 5 of 100\n",
      "building tree 6 of 100\n",
      "building tree 7 of 100\n",
      "building tree 8 of 100\n",
      "building tree 9 of 100\n",
      "building tree 10 of 100\n",
      "building tree 11 of 100\n",
      "building tree 12 of 100\n",
      "building tree 13 of 100\n",
      "building tree 14 of 100\n"
     ]
    },
    {
     "name": "stderr",
     "output_type": "stream",
     "text": [
      "[Parallel(n_jobs=-1)]: Done  10 tasks      | elapsed:    9.9s\n"
     ]
    },
    {
     "name": "stdout",
     "output_type": "stream",
     "text": [
      "building tree 15 of 100\n",
      "building tree 16 of 100\n",
      "building tree 17 of 100\n",
      "building tree 18 of 100\n",
      "building tree 19 of 100\n",
      "building tree 20 of 100\n",
      "building tree 21 of 100\n",
      "building tree 22 of 100\n",
      "building tree 23 of 100\n",
      "building tree 24 of 100\n",
      "building tree 25 of 100\n",
      "building tree 26 of 100\n",
      "building tree 27 of 100\n",
      "building tree 28 of 100\n",
      "building tree 29 of 100\n",
      "building tree 30 of 100\n",
      "building tree 31 of 100\n",
      "building tree 32 of 100\n",
      "building tree 33 of 100\n",
      "building tree 34 of 100\n",
      "building tree 35 of 100\n",
      "building tree 36 of 100\n",
      "building tree 37 of 100\n",
      "building tree 38 of 100\n",
      "building tree 39 of 100\n",
      "building tree 40 of 100\n",
      "building tree 41 of 100\n",
      "building tree 42 of 100\n",
      "building tree 43 of 100\n",
      "building tree 44 of 100\n",
      "building tree 45 of 100\n",
      "building tree 46 of 100\n",
      "building tree 47 of 100\n",
      "building tree 48 of 100\n",
      "building tree 49 of 100\n",
      "building tree 50 of 100\n",
      "building tree 51 of 100\n",
      "building tree 52 of 100\n",
      "building tree 53 of 100\n",
      "building tree 54 of 100\n",
      "building tree 55 of 100\n",
      "building tree 56 of 100\n",
      "building tree 57 of 100\n",
      "building tree 58 of 100\n",
      "building tree 59 of 100\n",
      "building tree 60 of 100\n",
      "building tree 61 of 100\n",
      "building tree 62 of 100\n",
      "building tree 63 of 100\n",
      "building tree 64 of 100\n",
      "building tree 65 of 100\n",
      "building tree 66 of 100\n",
      "building tree 67 of 100\n",
      "building tree 68 of 100\n"
     ]
    },
    {
     "name": "stderr",
     "output_type": "stream",
     "text": [
      "[Parallel(n_jobs=-1)]: Done  64 tasks      | elapsed:   52.2s\n"
     ]
    },
    {
     "name": "stdout",
     "output_type": "stream",
     "text": [
      "building tree 69 of 100\n",
      "building tree 70 of 100\n",
      "building tree 71 of 100\n",
      "building tree 72 of 100\n",
      "building tree 73 of 100\n",
      "building tree 74 of 100\n",
      "building tree 75 of 100\n",
      "building tree 76 of 100\n",
      "building tree 77 of 100\n",
      "building tree 78 of 100\n",
      "building tree 79 of 100\n",
      "building tree 80 of 100\n",
      "building tree 81 of 100\n",
      "building tree 82 of 100\n",
      "building tree 83 of 100\n",
      "building tree 84 of 100\n",
      "building tree 85 of 100\n",
      "building tree 86 of 100\n",
      "building tree 87 of 100\n",
      "building tree 88 of 100\n",
      "building tree 89 of 100\n",
      "building tree 90 of 100\n",
      "building tree 91 of 100\n",
      "building tree 92 of 100\n",
      "building tree 93 of 100\n",
      "building tree 94 of 100\n",
      "building tree 95 of 100\n",
      "building tree 96 of 100\n",
      "building tree 97 of 100\n",
      "building tree 98 of 100\n",
      "building tree 99 of 100\n",
      "building tree 100 of 100\n"
     ]
    },
    {
     "name": "stderr",
     "output_type": "stream",
     "text": [
      "[Parallel(n_jobs=-1)]: Done 100 out of 100 | elapsed:  1.3min finished\n"
     ]
    },
    {
     "data": {
      "text/plain": [
       "RandomForestClassifier(bootstrap=True, class_weight=None, criterion='gini',\n",
       "            max_depth=None, max_features='auto', max_leaf_nodes=None,\n",
       "            min_impurity_split=1e-07, min_samples_leaf=1,\n",
       "            min_samples_split=2, min_weight_fraction_leaf=0.0,\n",
       "            n_estimators=100, n_jobs=-1, oob_score=False,\n",
       "            random_state=None, verbose=5, warm_start=False)"
      ]
     },
     "execution_count": 20,
     "metadata": {},
     "output_type": "execute_result"
    }
   ],
   "source": [
    "rf = RandomForestClassifier(n_estimators=100, verbose=5, n_jobs=-1)\n",
    "rf.fit(X_train, Y_train)"
   ]
  },
  {
   "cell_type": "code",
   "execution_count": 21,
   "metadata": {
    "collapsed": false,
    "deletable": true,
    "editable": true
   },
   "outputs": [],
   "source": [
    "# save model\n",
    "#from sklearn.externals import joblib\n",
    "#joblib.dump(rf, 'rf01.pkl') "
   ]
  },
  {
   "cell_type": "code",
   "execution_count": 22,
   "metadata": {
    "collapsed": false,
    "deletable": true,
    "editable": true
   },
   "outputs": [
    {
     "name": "stderr",
     "output_type": "stream",
     "text": [
      "[Parallel(n_jobs=4)]: Done  10 tasks      | elapsed:    0.3s\n",
      "[Parallel(n_jobs=4)]: Done  64 tasks      | elapsed:    1.8s\n",
      "[Parallel(n_jobs=4)]: Done 100 out of 100 | elapsed:    2.7s finished\n"
     ]
    }
   ],
   "source": [
    "preds = rf.predict(X_test)\n",
    "fpr1, tpr1, thr1 = roc_curve(Y_test['loan_status'], preds)\n",
    "auc1 = roc_auc_score(Y_test['loan_status'], preds)"
   ]
  },
  {
   "cell_type": "code",
   "execution_count": 23,
   "metadata": {
    "collapsed": false,
    "deletable": true,
    "editable": true
   },
   "outputs": [
    {
     "name": "stdout",
     "output_type": "stream",
     "text": [
      "0.774722621329\n"
     ]
    },
    {
     "name": "stderr",
     "output_type": "stream",
     "text": [
      "[Parallel(n_jobs=4)]: Done  10 tasks      | elapsed:    0.2s\n",
      "[Parallel(n_jobs=4)]: Done  64 tasks      | elapsed:    1.3s\n",
      "[Parallel(n_jobs=4)]: Done 100 out of 100 | elapsed:    2.1s finished\n"
     ]
    },
    {
     "data": {
      "text/plain": [
       "0.86812350919369685"
      ]
     },
     "execution_count": 23,
     "metadata": {},
     "output_type": "execute_result"
    }
   ],
   "source": [
    "print(auc1)\n",
    "rf.score(X_test, Y_test)"
   ]
  },
  {
   "cell_type": "code",
   "execution_count": 24,
   "metadata": {
    "collapsed": false,
    "deletable": true,
    "editable": true
   },
   "outputs": [
    {
     "data": {
      "image/png": "[encoded data removed]",
      "text/plain": [
       "<matplotlib.figure.Figure at 0x121a9e518>"
      ]
     },
     "metadata": {},
     "output_type": "display_data"
    }
   ],
   "source": [
    "plt.plot(fpr1,tpr1)\n",
    "plt.plot(fpr1,fpr1)\n",
    "plt.xlabel(\"False positive rate\")\n",
    "plt.ylabel(\"True positive rate\")\n",
    "plt.show()"
   ]
  },
  {
   "cell_type": "code",
   "execution_count": 25,
   "metadata": {
    "collapsed": false,
    "deletable": true,
    "editable": true
   },
   "outputs": [
    {
     "data": {
      "text/html": [
       "<div>\n",
       "<table border=\"1\" class=\"dataframe\">\n",
       "  <thead>\n",
       "    <tr style=\"text-align: right;\">\n",
       "      <th></th>\n",
       "      <th>Feature</th>\n",
       "      <th>Importance</th>\n",
       "    </tr>\n",
       "  </thead>\n",
       "  <tbody>\n",
       "    <tr>\n",
       "      <th>0</th>\n",
       "      <td>tot_cur_bal</td>\n",
       "      <td>0.301489</td>\n",
       "    </tr>\n",
       "    <tr>\n",
       "      <th>1</th>\n",
       "      <td>int_rate</td>\n",
       "      <td>0.267385</td>\n",
       "    </tr>\n",
       "    <tr>\n",
       "      <th>2</th>\n",
       "      <td>total_rev_hi_lim</td>\n",
       "      <td>0.245364</td>\n",
       "    </tr>\n",
       "    <tr>\n",
       "      <th>3</th>\n",
       "      <td>last_week_pay</td>\n",
       "      <td>0.185761</td>\n",
       "    </tr>\n",
       "  </tbody>\n",
       "</table>\n",
       "</div>"
      ],
      "text/plain": [
       "            Feature  Importance\n",
       "0       tot_cur_bal    0.301489\n",
       "1          int_rate    0.267385\n",
       "2  total_rev_hi_lim    0.245364\n",
       "3     last_week_pay    0.185761"
      ]
     },
     "execution_count": 25,
     "metadata": {},
     "output_type": "execute_result"
    }
   ],
   "source": [
    "fi = list(zip(X_train.columns.values, rf.feature_importances_))\n",
    "fi = sorted(fi, key=lambda x: -x[1])\n",
    "pd.DataFrame(fi, columns=[\"Feature\",\"Importance\"])"
   ]
  },
  {
   "cell_type": "markdown",
   "metadata": {},
   "source": [
    "## Prediction"
   ]
  },
  {
   "cell_type": "code",
   "execution_count": null,
   "metadata": {
    "collapsed": false,
    "deletable": true,
    "editable": true
   },
   "outputs": [],
   "source": [
    "data_test = pd.read_csv(\"input/test_indessa.csv\")\n",
    "rows = data_test['member_id'].copy()"
   ]
  },
  {
   "cell_type": "code",
   "execution_count": null,
   "metadata": {
    "collapsed": false,
    "deletable": true,
    "editable": true
   },
   "outputs": [],
   "source": [
    "print(\"Shape: \", data_test.shape)\n",
    "data_test[:5]"
   ]
  },
  {
   "cell_type": "code",
   "execution_count": null,
   "metadata": {
    "collapsed": true,
    "deletable": true,
    "editable": true
   },
   "outputs": [],
   "source": [
    "data_test = data_test.fillna(\"0\")"
   ]
  },
  {
   "cell_type": "code",
   "execution_count": null,
   "metadata": {
    "collapsed": true,
    "deletable": true,
    "editable": true
   },
   "outputs": [],
   "source": [
    "data_test['last_week_pay'] = data_test['last_week_pay'].str.extract('(\\d+)', expand=False).astype(float)"
   ]
  },
  {
   "cell_type": "code",
   "execution_count": null,
   "metadata": {
    "collapsed": true,
    "deletable": true,
    "editable": true
   },
   "outputs": [],
   "source": [
    "data_test.drop(drop_cols, 1, inplace=True)"
   ]
  },
  {
   "cell_type": "code",
   "execution_count": null,
   "metadata": {
    "collapsed": false,
    "deletable": true,
    "editable": true
   },
   "outputs": [],
   "source": [
    "for col in cat_cols:\n",
    "    data_test[col] = le[col].transform(data_test[col])\n",
    "    print(col)"
   ]
  },
  {
   "cell_type": "code",
   "execution_count": null,
   "metadata": {
    "collapsed": true,
    "deletable": true,
    "editable": true
   },
   "outputs": [],
   "source": [
    "data_test = data_test.fillna(0)"
   ]
  },
  {
   "cell_type": "code",
   "execution_count": null,
   "metadata": {
    "collapsed": false,
    "deletable": true,
    "editable": true
   },
   "outputs": [],
   "source": [
    "pred_test = rf.predict_proba(data_test)"
   ]
  },
  {
   "cell_type": "code",
   "execution_count": null,
   "metadata": {
    "collapsed": true,
    "deletable": true,
    "editable": true
   },
   "outputs": [],
   "source": [
    "pred_frame = pd.DataFrame({'member_id': rows, 'loan_status': pred_test[:,1]})"
   ]
  },
  {
   "cell_type": "code",
   "execution_count": null,
   "metadata": {
    "collapsed": false,
    "deletable": true,
    "editable": true
   },
   "outputs": [],
   "source": [
    "pred_frame.to_csv('submission.csv', index=False, columns=['member_id', 'loan_status'], float_format='%g')"
   ]
  },
  {
   "cell_type": "markdown",
   "metadata": {},
   "source": [
    "## Try Other Models"
   ]
  },
  {
   "cell_type": "code",
   "execution_count": null,
   "metadata": {
    "collapsed": true,
    "deletable": true,
    "editable": true
   },
   "outputs": [],
   "source": [
    "from sklearn.neighbors import KNeighborsClassifier"
   ]
  },
  {
   "cell_type": "code",
   "execution_count": null,
   "metadata": {
    "collapsed": false,
    "deletable": true,
    "editable": true
   },
   "outputs": [],
   "source": [
    "knc = KNeighborsClassifier(n_neighbors=150, n_jobs=-1)\n",
    "knc.fit(X_train, Y_train)"
   ]
  },
  {
   "cell_type": "code",
   "execution_count": null,
   "metadata": {
    "collapsed": true,
    "deletable": true,
    "editable": true
   },
   "outputs": [],
   "source": [
    "preds_knc = knc.predict(X_test)"
   ]
  },
  {
   "cell_type": "code",
   "execution_count": null,
   "metadata": {
    "collapsed": false,
    "deletable": true,
    "editable": true
   },
   "outputs": [],
   "source": [
    "knc.score(X_test, Y_test)"
   ]
  },
  {
   "cell_type": "code",
   "execution_count": null,
   "metadata": {
    "collapsed": true,
    "deletable": true,
    "editable": true
   },
   "outputs": [],
   "source": [
    "from sklearn.linear_model import SGDClassifier"
   ]
  },
  {
   "cell_type": "code",
   "execution_count": null,
   "metadata": {
    "collapsed": false,
    "deletable": true,
    "editable": true
   },
   "outputs": [],
   "source": [
    "sgd = SGDClassifier(loss='modified_huber', verbose=2, n_jobs=-1, n_iter=300)\n",
    "sgd.fit(X_train, Y_train)"
   ]
  },
  {
   "cell_type": "code",
   "execution_count": null,
   "metadata": {
    "collapsed": false,
    "deletable": true,
    "editable": true
   },
   "outputs": [],
   "source": [
    "sgd.score(X_test, Y_test)"
   ]
  },
  {
   "cell_type": "code",
   "execution_count": null,
   "metadata": {
    "collapsed": true,
    "deletable": true,
    "editable": true
   },
   "outputs": [],
   "source": []
  }
 ],
 "metadata": {
  "kernelspec": {
   "display_name": "Python 3",
   "language": "python",
   "name": "python3"
  },
  "language_info": {
   "codemirror_mode": {
    "name": "ipython",
    "version": 3
   },
   "file_extension": ".py",
   "mimetype": "text/x-python",
   "name": "python",
   "nbconvert_exporter": "python",
   "pygments_lexer": "ipython3",
   "version": "3.6.0"
  }
 },
 "nbformat": 4,
 "nbformat_minor": 2
}
